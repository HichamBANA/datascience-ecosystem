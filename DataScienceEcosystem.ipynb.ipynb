{
  "metadata": {
    "kernelspec": {
      "name": "python",
      "display_name": "Python (Pyodide)",
      "language": "python"
    },
    "language_info": {
      "codemirror_mode": {
        "name": "python",
        "version": 3
      },
      "file_extension": ".py",
      "mimetype": "text/x-python",
      "name": "python",
      "nbconvert_exporter": "python",
      "pygments_lexer": "ipython3",
      "version": "3.8"
    }
  },
  "nbformat_minor": 5,
  "nbformat": 4,
  "cells": [
    {
      "id": "6278e29d-ae93-4de3-914a-6a3fa2462007",
      "cell_type": "markdown",
      "source": "# H1: Data Science Tools and Ecosystem",
      "metadata": {}
    },
    {
      "id": "261edfee-9be9-436a-a65a-dc1ceb71a707",
      "cell_type": "markdown",
      "source": "In this notebook, Data Science Tools and Ecosystem are summarized.\n",
      "metadata": {}
    },
    {
      "id": "5ca7f66b-bea5-4bf4-a795-836914450515",
      "cell_type": "markdown",
      "source": "Some of the popular languages that Data Scientists use are:\n\n1. Python  \n2. R  \n3. SQL  \n4. Julia  \n5. Scala",
      "metadata": {}
    },
    {
      "id": "68700816-632d-409c-97eb-62c89d429de6",
      "cell_type": "markdown",
      "source": "Some of the commonly used libraries used by Data Scientists include:\n\n1. Pandas  \n2. NumPy  \n3. TensorFlow  \n4. Matplotlib",
      "metadata": {}
    },
    {
      "id": "439627cd-0ae1-45c3-9968-d1fe8c267dcd",
      "cell_type": "markdown",
      "source": "| Data Science Tools       |\n|--------------------------|\n| Jupyter Notebooks        |\n| RStudio                  |\n| Apache Zeppelin          |",
      "metadata": {}
    },
    {
      "id": "9205aa95-db2c-4a11-b3b0-9f9f18f6b719",
      "cell_type": "markdown",
      "source": "### Below are a few examples of evaluating arithmetic expressions in Python.\n",
      "metadata": {}
    },
    {
      "id": "e7b397f8-0cf3-4d64-a3ef-39a961f3622b",
      "cell_type": "code",
      "source": "# This a simple arithmetic expression to multiply then add integers\n(3 * 4) + 5\n",
      "metadata": {
        "trusted": true
      },
      "outputs": [
        {
          "execution_count": 4,
          "output_type": "execute_result",
          "data": {
            "text/plain": "17"
          },
          "metadata": {}
        }
      ],
      "execution_count": 4
    },
    {
      "id": "c61a13e1-426d-4040-a523-7d7c2762e883",
      "cell_type": "code",
      "source": "# This will convert 200 minutes to hours by dividing by 60\n200 / 60\n",
      "metadata": {
        "trusted": true
      },
      "outputs": [
        {
          "execution_count": 5,
          "output_type": "execute_result",
          "data": {
            "text/plain": "3.3333333333333335"
          },
          "metadata": {}
        }
      ],
      "execution_count": 5
    },
    {
      "id": "b05ed7c7-ecd2-4686-bbe7-ab27018e8f8a",
      "cell_type": "markdown",
      "source": "**Objectives:**\n\n- List popular languages for Data Science  \n- Create and format markdown cells  \n- Create tables using markdown\n",
      "metadata": {}
    },
    {
      "id": "9911d82a-14db-4882-841d-75a9cfb58fc1",
      "cell_type": "markdown",
      "source": "## Author\n\nHicham Bana\n",
      "metadata": {}
    },
    {
      "id": "1b501fe0-961e-4156-bca5-342dd067a2a3",
      "cell_type": "code",
      "source": "",
      "metadata": {
        "trusted": true
      },
      "outputs": [],
      "execution_count": null
    }
  ]
}